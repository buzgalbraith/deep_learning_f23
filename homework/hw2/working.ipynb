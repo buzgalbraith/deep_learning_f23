{
 "cells": [
  {
   "cell_type": "code",
   "execution_count": 2,
   "metadata": {},
   "outputs": [],
   "source": [
    "import torch "
   ]
  },
  {
   "cell_type": "markdown",
   "metadata": {},
   "source": [
    "## question 1.1\n",
    "input is $11X14$ kernel size is $5X4$ stride is 1 what is output size"
   ]
  },
  {
   "cell_type": "code",
   "execution_count": 60,
   "metadata": {},
   "outputs": [
    {
     "name": "stdout",
     "output_type": "stream",
     "text": [
      "3.75\n"
     ]
    },
    {
     "data": {
      "text/plain": [
       "torch.Size([1, 1, 2, 4])"
      ]
     },
     "execution_count": 60,
     "metadata": {},
     "output_type": "execute_result"
    }
   ],
   "source": [
    "x = torch.zeros((1,1,11,19))\n",
    "print(15/4)\n",
    "torch.nn.Conv2d(in_channels=1,out_channels=1,kernel_size=(5,4), stride=4, padding=0)(x).shape"
   ]
  },
  {
   "cell_type": "code",
   "execution_count": 66,
   "metadata": {},
   "outputs": [
    {
     "name": "stdout",
     "output_type": "stream",
     "text": [
      "torch.Size([1, 5, 7])\n",
      "torch.Size([7, 5, 1])\n"
     ]
    },
    {
     "name": "stderr",
     "output_type": "stream",
     "text": [
      "/var/folders/n9/fzplfdyj1qnc7vh32mb74rrr0000gn/T/ipykernel_62676/3138107943.py:2: UserWarning: The use of `x.T` on tensors of dimension other than 2 to reverse their shape is deprecated and it will throw an error in a future release. Consider `x.mT` to transpose batches of matrices or `x.permute(*torch.arange(x.ndim - 1, -1, -1))` to reverse the dimensions of a tensor. (Triggered internally at /Users/runner/work/pytorch/pytorch/pytorch/aten/src/ATen/native/TensorShape.cpp:3575.)\n",
      "  print(x.T.shape)\n"
     ]
    }
   ],
   "source": [
    "print(x.shape)\n",
    "print(x.T.shape)"
   ]
  },
  {
   "cell_type": "markdown",
   "metadata": {},
   "source": [
    "use the formula $$out = \\frac{W-k+2(p)}{s}+1$$\n",
    "https://stackoverflow.com/questions/53580088/calculate-the-output-size-in-convolution-layer\n"
   ]
  },
  {
   "cell_type": "markdown",
   "metadata": {},
   "source": [
    "Given an input of dimension C × H ×W, what will be the dimension\n",
    "of the output of a convolution layer with kernel of size K × K, padding P,\n",
    "stride S, dilation D, and F filters. "
   ]
  },
  {
   "cell_type": "markdown",
   "metadata": {},
   "source": [
    "I think here f is the output dimension \n",
    "So i think it would be \n",
    "- H_out = floor ( $\\frac{H + 2*P - D * (K-1)-1}{S} + 1 $)\n",
    "- w_out = floor ( $\\frac{W + 2*P - D * (K-1)-1}{S} + 1 $)\n",
    "- so the output dimensionality would be (H_out, w_out, F)"
   ]
  },
  {
   "cell_type": "code",
   "execution_count": 61,
   "metadata": {},
   "outputs": [
    {
     "data": {
      "text/plain": [
       "torch.Size([1, 3, 3, 6])"
      ]
     },
     "execution_count": 61,
     "metadata": {},
     "output_type": "execute_result"
    }
   ],
   "source": [
    "C = 1\n",
    "H = 11\n",
    "W = 19\n",
    "N = 1\n",
    "K = 3\n",
    "S = 3\n",
    "P = 2\n",
    "F = 3\n",
    "D = 3\n",
    "x = torch.zeros((N, C, H, W))\n",
    "torch.nn.Conv2d(in_channels=C,out_channels=F,kernel_size=(K,K), stride=S, padding=P, dilation=D)(x).shape"
   ]
  },
  {
   "cell_type": "code",
   "execution_count": 20,
   "metadata": {},
   "outputs": [
    {
     "data": {
      "text/plain": [
       "(3, 4, 3)"
      ]
     },
     "execution_count": 20,
     "metadata": {},
     "output_type": "execute_result"
    }
   ],
   "source": [
    "def check_dimension(H, W, K, S, P, D, F):\n",
    "    return (int((H + 2*P - D*(K-1) - 1)/S + 1), int((W + 2*P - D*(K-1) - 1)/S + 1), F)\n",
    "check_dimension(H, W, K, S, P, D, F)"
   ]
  },
  {
   "cell_type": "code",
   "execution_count": 64,
   "metadata": {},
   "outputs": [
    {
     "name": "stdout",
     "output_type": "stream",
     "text": [
      "torch.Size([1, 5, 3])\n",
      "torch.Size([1, 1, 3])\n",
      "torch.Size([1, 5, 3])\n"
     ]
    },
    {
     "data": {
      "text/plain": [
       "torch.Size([1, 5, 7])"
      ]
     },
     "execution_count": 64,
     "metadata": {},
     "output_type": "execute_result"
    }
   ],
   "source": [
    "x = torch.zeros(1,5,7, requires_grad=True)\n",
    "conv = torch.nn.Conv1d(in_channels=5,out_channels=1,kernel_size=3, stride=2, padding=0)\n",
    "print(conv.weight.shape)\n",
    "print(conv(x).shape)\n",
    "print(torch.autograd.grad(conv(x)[0][0][1],conv.weight)[0].shape) ## so whole gradient is tensor of shape [3,5,3]\n",
    "torch.autograd.grad(conv(x)[0][0][1],x)[0].shape ## so whole gradient is tensor of shape [3,5,7]\n",
    "\n"
   ]
  },
  {
   "cell_type": "code",
   "execution_count": 86,
   "metadata": {},
   "outputs": [
    {
     "name": "stdout",
     "output_type": "stream",
     "text": [
      "recurrent neural networks for multivariate time series with missing values\n"
     ]
    }
   ],
   "source": [
    "# ell = lambda x: torch.sum(x**2)\n",
    "# L = ell(conv(x))\n",
    "# y = torch.autograd.grad(L, conv.weight)[0]\n",
    "# print(y.shape)\n",
    "print('RECURRENT NEURAL NETWORKS FOR MULTIVARIATE TIME SERIES WITH MISSING VALUES'.lower())"
   ]
  },
  {
   "cell_type": "code",
   "execution_count": 83,
   "metadata": {},
   "outputs": [
    {
     "name": "stdout",
     "output_type": "stream",
     "text": [
      "torch.Size([1, 1, 3]) torch.Size([3, 3, 5])\n",
      "torch.Size([3, 1, 5])\n"
     ]
    }
   ],
   "source": [
    "x = torch.zeros((1,1,3), requires_grad=True)\n",
    "y = torch.zeros((3,3,5), requires_grad=True)\n",
    "print(x.shape, y.shape)\n",
    "print(torch.matmul(x,y).shape)"
   ]
  },
  {
   "cell_type": "markdown",
   "metadata": {},
   "source": [
    "## question 2.\n",
    "1. \n",
    "- we would have our weight matrix $W.T=([w_1\\\\,w_2,\\\\w_3])\\in \\mathbb{R}^{1\\times 5\\times 3}$ where $w_i\\in \\mathbb{R}^{5}$\n",
    "- then each of our outputs would be $$F_w(n)=\\sum_{i=1}^{3}x[2*n-1+i]^tW[1,:,i]$$\n",
    "- and the output of this would be in $$mathbb{R}^{1\\times 1\\times 3}$$\n"
   ]
  },
  {
   "cell_type": "code",
   "execution_count": 22,
   "metadata": {},
   "outputs": [
    {
     "name": "stdout",
     "output_type": "stream",
     "text": [
      "torch.Size([3, 1]) torch.Size([3, 3]) torch.Size([3, 1]) torch.Size([3, 1])\n"
     ]
    }
   ],
   "source": [
    "#torch.sigmoid()\n",
    "import torch\n",
    "n = 5\n",
    "m = 3\n",
    "A = torch.zeros((m,1), requires_grad=True)\n",
    "W_h = torch.zeros(m,m, requires_grad=True)\n",
    "h = torch.zeros(m,1, requires_grad=True)\n",
    "y = torch.sigmoid(A + torch.matmul(W_h,h))\n",
    "print(A.shape, W_h.shape, h.shape, y.shape)\n",
    "out = torch.autograd.grad(y[2][0], h, retain_graph=True)\n"
   ]
  },
  {
   "cell_type": "code",
   "execution_count": 44,
   "metadata": {},
   "outputs": [
    {
     "data": {
      "text/plain": [
       "torch.Size([3, 5, 3])"
      ]
     },
     "execution_count": 44,
     "metadata": {},
     "output_type": "execute_result"
    }
   ],
   "source": [
    "W_h = torch.zeros((m,m), requires_grad=True)\n",
    "out = torch.zeros((m,n, m), requires_grad=True)\n",
    "b = torch.zeros((m,1), requires_grad=True)\n",
    "k = torch.sigmoid(b) * torch.sigmoid(1-b)\n",
    "final =torch.matmul(out, W_h)\n",
    "(k * W_h).shape ## (m,m)\n",
    "out.shape ## (m,n,m)\n",
    "final.shape ## (m,n,m)"
   ]
  },
  {
   "cell_type": "markdown",
   "metadata": {},
   "source": [
    "## now we want to see the derivative with respect to W\n",
    "- so $f_w(x)\\in \\mathbb{R}^{1\\times 1 \\times 3}=\\mathbb{R}^{3}$ and $W\\in \\mathbb{R}^{1\\times 5,3}=\\in \\mathbb{R}^{5,3}$ if we take out the flat dimensions. \n",
    "- now we want to find $$\\frac{\\partial f_W(x)}{\\bold{W}}=[\\frac{\\partial f_W(x)_1}{\\bold{W}}, \\frac{\\partial f_W(x)_2}{\\bold{W}}, \\frac{\\partial f_W(x)_3}{\\bold{W}}]$$\n",
    "- where we can see that $$\\frac{\\partial f_W(x)_i}{\\bold{W}}=\\frac{x}{\\partial \\bold{W}}(\\sum_{i=1}^{3}x[2*n-1+i]^tW[1,:,i])=x[2*n-1]^{t}W[1]$$"
   ]
  },
  {
   "cell_type": "code",
   "execution_count": null,
   "metadata": {},
   "outputs": [],
   "source": []
  },
  {
   "cell_type": "code",
   "execution_count": 34,
   "metadata": {},
   "outputs": [
    {
     "data": {
      "text/plain": [
       "torch.Size([1, 1, 3])"
      ]
     },
     "execution_count": 34,
     "metadata": {},
     "output_type": "execute_result"
    }
   ],
   "source": [
    "res.shape"
   ]
  }
 ],
 "metadata": {
  "kernelspec": {
   "display_name": "cv",
   "language": "python",
   "name": "python3"
  },
  "language_info": {
   "codemirror_mode": {
    "name": "ipython",
    "version": 3
   },
   "file_extension": ".py",
   "mimetype": "text/x-python",
   "name": "python",
   "nbconvert_exporter": "python",
   "pygments_lexer": "ipython3",
   "version": "3.11.4"
  },
  "orig_nbformat": 4
 },
 "nbformat": 4,
 "nbformat_minor": 2
}
